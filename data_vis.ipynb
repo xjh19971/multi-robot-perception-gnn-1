{
 "cells": [
  {
   "cell_type": "code",
   "execution_count": 4,
   "outputs": [],
   "source": [
    "%matplotlib inline\n",
    "import os,argparse\n",
    "\n",
    "import numpy as np\n",
    "import cv2\n",
    "from matplotlib import pyplot as plt\n",
    "import torch\n",
    "from dataloader import MRPGDataSet"
   ],
   "metadata": {
    "collapsed": false,
    "pycharm": {
     "name": "#%%\n"
    }
   }
  },
  {
   "cell_type": "code",
   "execution_count": 5,
   "outputs": [],
   "source": [
    "def visualize(data):\n",
    "    img = data[0][0].copy()\n",
    "    pose = data[0][1].copy()\n",
    "    depth = data[0][2].copy()\n",
    "    plt.subplot(211)\n",
    "    plt.imshow(img)\n",
    "    plt.subplot(212)\n",
    "    plt.imshow(depth)\n",
    "    plt.show()\n",
    "    print(f\"Pose:f{pose}\")"
   ],
   "metadata": {
    "collapsed": false,
    "pycharm": {
     "name": "#%%\n"
    }
   }
  },
  {
   "cell_type": "code",
   "execution_count": null,
   "outputs": [],
   "source": [
    "parser = argparse.ArgumentParser()\n",
    "# parser.add_argument('-seed', type=int, default=1)\n",
    "# parser.add_argument('-dataset', type=str, default='airsim-mrmps-data')\n",
    "# parser.add_argument('-batch_size', type=int, default=8)\n",
    "opt = argparse.Namespace()\n",
    "opt.seed = 1\n",
    "opt.dataset = 'airsim-mrmps-data'\n",
    "opt.batch_size = 1\n",
    "opt.target = 'train'\n",
    "dataset=MRPGDataSet(opt)\n",
    "trainset, _ = torch.utils.data.random_split(dataset, [int(0.90 * len(dataset)),len(dataset) - int(0.90 * len(dataset))])\n",
    "trainloader = torch.utils.data.DataLoader(trainset, batch_size=opt.batch_size, shuffle=True, num_workers=1)\n",
    "data = next(trainloader)"
   ],
   "metadata": {
    "collapsed": false,
    "pycharm": {
     "name": "#%%\n",
     "is_executing": true
    }
   }
  },
  {
   "cell_type": "markdown",
   "source": [
    "Origin Image and Labels"
   ],
   "metadata": {
    "collapsed": false
   }
  },
  {
   "cell_type": "code",
   "execution_count": null,
   "outputs": [],
   "source": [
    "visualize(data)\n",
    "\n"
   ],
   "metadata": {
    "collapsed": false,
    "pycharm": {
     "name": "#%%\n"
    }
   }
  },
  {
   "cell_type": "code",
   "execution_count": null,
   "outputs": [],
   "source": [],
   "metadata": {
    "collapsed": false,
    "pycharm": {
     "name": "#%%\n"
    }
   }
  }
 ],
 "metadata": {
  "kernelspec": {
   "display_name": "Python 3",
   "language": "python",
   "name": "python3"
  },
  "language_info": {
   "codemirror_mode": {
    "name": "ipython",
    "version": 2
   },
   "file_extension": ".py",
   "mimetype": "text/x-python",
   "name": "python",
   "nbconvert_exporter": "python",
   "pygments_lexer": "ipython2",
   "version": "2.7.6"
  }
 },
 "nbformat": 4,
 "nbformat_minor": 0
}