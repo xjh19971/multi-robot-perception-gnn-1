{
 "cells": [
  {
   "cell_type": "code",
   "execution_count": null,
   "metadata": {
    "collapsed": true
   },
   "outputs": [],
   "source": [
    "#relpose vectors for cameras 1,2,3,\n",
    "\n",
    "scene_id= 0\n",
    "main_loop_freq= 50.0\n",
    "unity_render= yes \n",
    "\n",
    "fov= 90\n",
    "width= 720\n",
    "height= 480\n",
    "num_camera= 3\n",
    "camera_names= [\"camera_1\", \"camera_2\", \"camera_3\"]\n",
    "\n",
    "camera_1:\n",
    "  relpose_T: [0.0, 0.0, 0.3]\n",
    "  relpose_R: [1.0, 0.0, 0.0, 0.0]\n",
    "\n",
    "camera_2: \n",
    "  relpose_T: [-3.0, 0.0, 0.1]\n",
    "  relpose_R: [0.924, 0.0, 0.0, 0.383] \n",
    "\n",
    "camera_3:\n",
    "  relpose_T: [3.0, 0.0, 0.1]\n",
    "  relpose_R: [0.924, 0.0, 0.0,-0.383]\n",
    "    \n",
    "# In my interpretation, the value of angle is from -1 to 1"
   ]
  },
  {
   "cell_type": "code",
   "execution_count": null,
   "metadata": {
    "collapsed": true
   },
   "outputs": [],
   "source": [
    "#quaternion array in pyquaternion version\n",
    "from pyquaternion import Quaternion\n",
    "\n",
    "camera_1_r = Quaternion(axis=[1, 0, 0], angle=3.14159265) #angle range is from -pi to pi\n",
    "camera_2_r = Quaternion(axis=[0, 1, 0], angle=3.14159265)\n",
    "camera_3_r = Quaternion(axis=[0, 0, 1], angle=3.14159265)\n",
    "\n",
    "#print(camera_1_r.angle)\n",
    "\n",
    "\n",
    "\n",
    "\n",
    "#fixing the angle in this section"
   ]
  },
  {
   "cell_type": "code",
   "execution_count": null,
   "metadata": {
    "collapsed": true
   },
   "outputs": [],
   "source": [
    "#concatenate all three vectors of relpose_T from 3 different cameras into a concatenated vector\n",
    "#do the similar operation to relpose_R"
   ]
  },
  {
   "cell_type": "code",
   "execution_count": null,
   "metadata": {
    "collapsed": true
   },
   "outputs": [],
   "source": [
    "#get a time variable t\n",
    "#at each repeated time increment, call the function shape and quad, record the data from them"
   ]
  },
  {
   "cell_type": "code",
   "execution_count": null,
   "metadata": {
    "collapsed": true
   },
   "outputs": [],
   "source": [
    "#position array\n",
    "\n",
    "relpose_T = [[ camera_1_relpose_T[0],  camera_1_relpose_T[1],  camera_1_relpose_T[2]], #camera1's pose\n",
    "        [ camera_2_relpose_T[0],  camera_2_relpose_T[1],  camera_2_relpose_T[2]], #camera2's pose\n",
    "        [ camera_3_relpose_T[0],  camera_3_relpose_T[1],  camera_3_relpose_T[2]]] #camera3's pose\n",
    "\n",
    "#defining the shape in this section\n",
    "#define the relative postions function (shape such line, triangle...)\n",
    "def triangular (relpose_T): \n",
    "    # first calculate the relative spatial position\n",
    "    # second, add the noise to each position\n",
    "    relpose_T = [[camera_1_relpose_T[0],  camera_1_relpose_T[1],  camera_1_relpose_T[2]],\n",
    "                [camera_1_relpose_T[0]-3.0, camera_1_relpose_T[1],camera_1_relpose_T[2] - 0.2],\n",
    "                [camera_1_relpose_T[0]+3.0, camera_1_relpose_T[1],camera_1_relpose_T[2] - 0.2]]\n",
    "    \n",
    "    noise = np.random.normal(0,0.01,9) #generating 9 noise factors with standard deviation 0.01 at mean 0\n",
    "    #output is \n",
    "    relpose_T = [[camera_1_relpose_T[0] + noise[0] ,  camera_1_relpose_T[1] + noise[1] ,  camera_1_relpose_T[2] + noise[2]],\n",
    "                [camera_1_relpose_T[0]-3.0 + noise[3] , camera_1_relpose_T[1] + noise[4] ,camera_1_relpose_T[2] - 0.2 + noise[5]],\n",
    "                [camera_1_relpose_T[0]+3.0 + noise[6] , camera_1_relpose_T[1] + noise[7] ,camera_1_relpose_T[2] - 0.2 + noise[8] ]]\n",
    "\n",
    "def line (relpose_T): \n",
    "    # similarly, we define a line-shaped camera system for the multi cameras\n",
    "    noise = np.random.normal(0,0.01,9)\n",
    "    relpose_T = [[camera_1_relpose_T[0] + noise[0] ,  camera_1_relpose_T[1] + noise[1] ,  camera_1_relpose_T[2] + noise[2] ],\n",
    "                [camera_1_relpose_T[0]+1.0 + noise[3] , camera_1_relpose_T[1]+1.0 + noise[4] ,camera_1_relpose_T[2] - 0.2679  + noise[5] ],\n",
    "                [camera_1_relpose_T[0]+2.0 + noise[6] , camera_1_relpose_T[1]+2.0 + noise[7] ,camera_1_relpose_T[2] - 2.0  + noise[8] ]]\n",
    "\n"
   ]
  },
  {
   "cell_type": "code",
   "execution_count": null,
   "metadata": {
    "collapsed": true
   },
   "outputs": [],
   "source": [
    "#functions for camera angle\n",
    "\n",
    "#define the camera angle function\n",
    "def angle (relpose_R, x):\n",
    "    # x represents the focus distance you choose, p.s. x is int type\n",
    "    #1-10 for close range object, 10-100 for midium range object, over 100 for long range object\n",
    "    \n",
    "    #find the point where the first camera points to\n",
    "    update_point = [camera_1_relpose_R[0] * x, camera_1_relpose_R[1] * x, camera_1_relpose_R[2] * x]\n",
    "    \n",
    "    #https://math.stackexchange.com/questions/83404/finding-a-point-along-a-line-in-three-dimensions-given-two-points\n",
    "    #direction for camera 2\n",
    "    #relpose_T[1][0-3] is the updated pos for camera 2 with noise added in the previous def\n",
    "    dir_vec2 = [update_point[0] - relpose_T[1][0], update_point[1] - relpose_T[1][1], update_point[2] - relpose_T[1][2]]\n",
    "    #normalize it\n",
    "    dir_vec2 = numpy.linalg.norm(dir_vec2) \n",
    "    camera_2_relpose_R = [dir_vec2[0], dir_vec2[1], dir_vec2[2], relpose_R[1][3]]\n",
    "    #relpose_R[1][3] represents the second quad vector and the 4th element of it\n",
    "    \n",
    "    #direction for camera 3\n",
    "    #relpose_T[2][0-3] is the updated pos for camera 3 with noise added in the previous def\n",
    "    dir_vec3 = [update_point[0] - relpose_T[2][0], update_point[1] - relpose_T[2][1], update_point[2] - relpose_T[2][2]]\n",
    "    #normalize dir_vec3\n",
    "    dir_vec3 = numpy.linalg.norm(dir_vec3) \n",
    "    camera_3_relpose_R = [dir_vec3[0], dir_vec3[1], dir_vec3[2], relpose_R[2][3]]\n",
    "    \n",
    "    relpose_R = [camera_1_relpose_R, camera_2_relpose_R, camera_3_relpose_R]"
   ]
  },
  {
   "cell_type": "code",
   "execution_count": null,
   "metadata": {
    "collapsed": true
   },
   "outputs": [],
   "source": [
    "\n",
    "\n",
    "#1.define a(or multi) 3-dimensional position vector(s) for the still object\n",
    "#1.1 one or few crucial points for one object\n",
    "#such as few vectors for few points on the wall to represent the wall\n",
    "# one(or few) vector for the sofa\n",
    "# \n",
    "\n",
    "#2.define few properties for the drone simulator system\n",
    "#2.1 one input vector of the start point of the drone system\n",
    "\n",
    "#2.2one input vector of which mode to choose, a rec-triangular shape or a line shape \n",
    "# the current system has 3 drones, each drone has one camera, you can change the number of drones and number of cameras later\n",
    "#2.3for the moving trajectory of drones, later on i can add the control option,\n",
    "#2.3.1for now its just two main options, one is moving randomly in the cargo\n",
    "#2.3.2the other option is to choose a direction and let the drone move toward it\n",
    "#for the relative position among three drones, my idea is to concerntrate on one drone and make a relative movement(which is also a stochastic, but small portion) for another\n",
    "#two drones based on this one\n",
    "# \n",
    "\n",
    "# we can calculate the distance between drones and each object, in order to calculate the depth of image obtained\n",
    "\n",
    "#the input variables can be classified into two categories, one category for the objects in the real world \n",
    "#the other category is for the drones: starting position, number of drones, the moving trajactory choice\n",
    "\n",
    "#3. The overlap problem: How to grant the existence of overlapping between two cameras, or among three cameras\n",
    "#3.1 the easy way is to TRY a very small angle difference between two CAMERAS\n",
    "#3.2 The more challenging way is to let each camera focus on one point on an object\n",
    "\n",
    "#design(functions):\n",
    "#1.trajactory function to track the movement\n",
    "#https://stackoverflow.com/questions/45798968/3d-animation-in-python-moving-point-and-trajectory\n",
    "#https://www.cnblogs.com/leexiaoming/p/6641162.html\n",
    "\n",
    "#2.the relative distance between the drone and the objects\n",
    "#(in order to calculate the depth)\n",
    "\n",
    "#3. the relative pos among cameras\n",
    "\n",
    "#4. the overlapping, or the angle problem among all camera views\n",
    "\n",
    "\n",
    "    \n",
    "#initialization / variables\n",
    "#starting point of simulator in 3-dimension space\n",
    "#https://stackoverflow.com/questions/22981845/3-dimensional-array-in-numpy\n",
    "\n",
    "  "
   ]
  },
  {
   "cell_type": "code",
   "execution_count": null,
   "metadata": {
    "collapsed": true
   },
   "outputs": [],
   "source": [
    "#variable definition\n",
    "#camera 1\n",
    "c1_t1 = camera_1_relpose_T[0]\n",
    "c1_t2 = camera_1_relpose_T[1]\n",
    "c1_t3 = camera_1_relpose_T[2]\n",
    "\n",
    "c1_r1 = camera_1_relpose_R[0]\n",
    "c1_r2 = camera_1_relpose_R[1]\n",
    "c1_r3 = camera_1_relpose_R[2]\n",
    "c1_r4 = camera_1_relpose_R[3]\n",
    "\n",
    "#camera 2\n",
    "c2_t1 = camera_2_relpose_T[0]\n",
    "c2_t2 = camera_2_relpose_T[1]\n",
    "c2_t3 = camera_2_relpose_T[2]\n",
    "\n",
    "c2_r1 = camera_2_relpose_R[0]\n",
    "c2_r2 = camera_2_relpose_R[1]\n",
    "c2_r3 = camera_2_relpose_R[2]\n",
    "c2_r4 = camera_2_relpose_R[3]\n",
    "\n",
    "##camera 3\n",
    "c3_t1 = camera_3_relpose_T[0]\n",
    "c3_t2 = camera_3_relpose_T[1]\n",
    "c3_t3 = camera_3_relpose_T[2]\n",
    "\n",
    "c3_r1 = camera_3_relpose_R[0]\n",
    "c3_r2 = camera_3_relpose_R[1]\n",
    "c3_r3 = camera_3_relpose_R[2]\n",
    "c3_r4 = camera_3_relpose_R[3]\n",
    "\n",
    "#or we can use loop\n",
    "#camera is a array type, with a number of i-th camera, a 3-d vector, and a 4-d vector\n",
    "#def giving_values (camera):\n",
    "#    for n in range(0, camera_number):\n",
    "#        for i in range(0,len(camera[n][i])-4): # i is a number from 0 to 2 to store the 3-d vector\n",
    "#            c[n][i] = camera[n][i]\n",
    "#        for j in range(3, len(camera[n][j])-1):\n",
    "#            c[n][j] = camera[n][j] #j is a number from 3 to 7 to store the 4-d vector\n",
    "            "
   ]
  },
  {
   "cell_type": "code",
   "execution_count": 37,
   "metadata": {},
   "outputs": [
    {
     "name": "stdout",
     "output_type": "stream",
     "text": [
      "3.1415926499999998\n"
     ]
    }
   ],
   "source": [
    "#quaternion array in pyquaternion version\n",
    "from pyquaternion import Quaternion\n",
    "\n",
    "camera_1_r = Quaternion(axis=[1, 0, 0], angle=3.14159265)\n",
    "camera_2_r = Quaternion(axis=[0, 1, 0], angle=3.14159265)\n",
    "camera_3_r = Quaternion(axis=[0, 0, 1], angle=3.14159265)\n",
    "\n",
    "#print(camera_1_r.angle)\n",
    "\n",
    "\n",
    "\n",
    "\n",
    "#fixing the angle in this section"
   ]
  },
  {
   "cell_type": "code",
   "execution_count": 39,
   "metadata": {},
   "outputs": [
    {
     "name": "stdout",
     "output_type": "stream",
     "text": [
      "-0.00276125956993\n"
     ]
    }
   ],
   "source": [
    "noise = np.random.normal(0,0.1,9)\n",
    "print (noise[0])"
   ]
  },
  {
   "cell_type": "code",
   "execution_count": null,
   "metadata": {
    "collapsed": true
   },
   "outputs": [],
   "source": [
    "#adding noise to the cameras in order to simulate \n",
    "\n",
    "noise = np.random.normal(0,0.1,1)\n",
    "#\n",
    "\n",
    "#data for camera 1:\n",
    "c1_t1 = c1_t1 +\n",
    "c1_t2\n",
    "c1_t3"
   ]
  },
  {
   "cell_type": "code",
   "execution_count": 10,
   "metadata": {},
   "outputs": [
    {
     "ename": "NameError",
     "evalue": "name 'c1_t1' is not defined",
     "output_type": "error",
     "traceback": [
      "\u001b[0;31m---------------------------------------------------------------------------\u001b[0m",
      "\u001b[0;31mNameError\u001b[0m                                 Traceback (most recent call last)",
      "\u001b[0;32m<ipython-input-10-ae6c87f88807>\u001b[0m in \u001b[0;36m<module>\u001b[0;34m()\u001b[0m\n\u001b[1;32m      3\u001b[0m \u001b[0mdata_set\u001b[0m \u001b[0;34m=\u001b[0m \u001b[0mnp\u001b[0m\u001b[0;34m.\u001b[0m\u001b[0mzeros\u001b[0m\u001b[0;34m(\u001b[0m\u001b[0;34m(\u001b[0m\u001b[0;36m2\u001b[0m\u001b[0;34m,\u001b[0m\u001b[0;36m3\u001b[0m\u001b[0;34m,\u001b[0m\u001b[0;36m4\u001b[0m\u001b[0;34m)\u001b[0m\u001b[0;34m)\u001b[0m\u001b[0;34m\u001b[0m\u001b[0m\n\u001b[1;32m      4\u001b[0m data_set = array([\n\u001b[0;32m----> 5\u001b[0;31m                 [[c1_t1, c1_t2, c1_t3],\n\u001b[0m\u001b[1;32m      6\u001b[0m                  \u001b[0;34m[\u001b[0m\u001b[0mc2_t1\u001b[0m\u001b[0;34m,\u001b[0m\u001b[0mc2_t2\u001b[0m\u001b[0;34m,\u001b[0m\u001b[0mc2_t3\u001b[0m\u001b[0;34m]\u001b[0m\u001b[0;34m,\u001b[0m\u001b[0;34m\u001b[0m\u001b[0m\n\u001b[1;32m      7\u001b[0m                  [c3_t1,c3_t2,c3_t3]],\n",
      "\u001b[0;31mNameError\u001b[0m: name 'c1_t1' is not defined"
     ]
    }
   ],
   "source": [
    "import numpy as np\n",
    "import pandas\n",
    "data_set = np.zeros((2,3,4))\n",
    "data_set = array([\n",
    "                [[c1_t1, c1_t2, c1_t3],\n",
    "                 [c2_t1,c2_t2,c2_t3],\n",
    "                 [c3_t1,c3_t2,c3_t3]],\n",
    "                 \n",
    "                 [[c1_r1, c1_r2,c1_r3,c1_r4],\n",
    "                 [c2_r1,c2_r2,c2_r3,c2_r4],\n",
    "                 [c3_r1,c3_r2,c3_r3,c3_r4]]\n",
    "                 ]\n",
    "                 )\n",
    "\n",
    "print(size.data_set)"
   ]
  },
  {
   "cell_type": "code",
   "execution_count": 22,
   "metadata": {},
   "outputs": [
    {
     "name": "stdout",
     "output_type": "stream",
     "text": [
      "1.0\n",
      "21.0\n"
     ]
    }
   ],
   "source": [
    "#test the index of each element,tutorial for newbie!\n",
    "asf = [[[ 1.,  2.,  3.,  4.],\n",
    "        [ 5.,  6.,  7.,  8.],\n",
    "        [ 9.,  10.,  11.,  12.]],\n",
    "\n",
    "       [[ 13.,  14.,  15.,  16.],\n",
    "        [ 17.,  18.,  19.,  20.],\n",
    "        [ 21.,  22.,  23.,  24.]]]\n",
    "\n",
    "#print(asf.index([ 1.,  2.,  3.,  4.]))\n",
    "print(asf[0][0][0])\n",
    "print(asf[1][2][0])\n",
    "#second print should be 21"
   ]
  },
  {
   "cell_type": "code",
   "execution_count": 26,
   "metadata": {},
   "outputs": [
    {
     "name": "stdout",
     "output_type": "stream",
     "text": [
      "[ 0.04716801]\n",
      "0.047168009803\n"
     ]
    }
   ],
   "source": [
    "import numpy as np\n",
    "\n",
    "noise = np.random.normal(0,0.1,1)\n",
    "print(noise)\n",
    "print(noise[0])"
   ]
  }
 ],
 "metadata": {
  "kernelspec": {
   "display_name": "Python 3",
   "language": "python",
   "name": "python3"
  },
  "language_info": {
   "codemirror_mode": {
    "name": "ipython",
    "version": 3
   },
   "file_extension": ".py",
   "mimetype": "text/x-python",
   "name": "python",
   "nbconvert_exporter": "python",
   "pygments_lexer": "ipython3",
   "version": "3.6.3"
  }
 },
 "nbformat": 4,
 "nbformat_minor": 2
}
