{
 "cells": [
  {
   "cell_type": "code",
   "execution_count": null,
   "metadata": {
    "collapsed": true
   },
   "outputs": [],
   "source": [
    "#you have to admit the fact is that, you have to use rotation angle as the intersection bridge \n",
    "#since you cant find the quaternion of another point by the given quaternion of current point\n",
    "#the logic is quaternion --> rotation angle + position info ---> quaternion\n",
    "#or you can simple transfer everything into the form of rotation angle + position info"
   ]
  },
  {
   "cell_type": "code",
   "execution_count": null,
   "metadata": {
    "collapsed": true
   },
   "outputs": [],
   "source": [
    "#logistic\n",
    "o1_position(c1, o1, depth1)\n",
    "find_o2 (relpose_R, relpose_T, o1)\n",
    "rotation_matrix_from_vectors(o1, o2, relpose_T)\n",
    "cal_quaternion (relpose_T, o1, o2)\n",
    "\n",
    "#or rotation_matrix_from_vectors(o1, o2, relpose_T) could be nested in cal_quaternion"
   ]
  },
  {
   "cell_type": "code",
   "execution_count": null,
   "metadata": {
    "collapsed": true
   },
   "outputs": [],
   "source": [
    "#relpose vectors for cameras 1,2,3,\n",
    "\n",
    "scene_id= 0\n",
    "main_loop_freq= 50.0\n",
    "unity_render= yes \n",
    "\n",
    "fov= 90\n",
    "width= 720\n",
    "height= 480\n",
    "num_camera= 3\n",
    "camera_names= [\"camera_1\", \"camera_2\", \"camera_3\"]\n",
    "\n",
    "camera_1:\n",
    "  relpose_T: [0.0, 0.0, 0.3]\n",
    "  relpose_R: [1.0, 0.0, 0.0, 0.0]\n",
    "\n",
    "camera_2: \n",
    "  relpose_T: [-3.0, 0.0, 0.1]\n",
    "  relpose_R: [0.924, 0.0, 0.0, 0.383] \n",
    "\n",
    "camera_3:\n",
    "  relpose_T: [3.0, 0.0, 0.1]\n",
    "  relpose_R: [0.924, 0.0, 0.0,-0.383]\n",
    "    \n",
    "# In my interpretation, the value of angle is from -1 to 1"
   ]
  },
  {
   "cell_type": "code",
   "execution_count": null,
   "metadata": {
    "collapsed": true
   },
   "outputs": [],
   "source": [
    "#inverse of a matrix and vector :numpy.linalg.inv()\n"
   ]
  },
  {
   "cell_type": "code",
   "execution_count": 1,
   "metadata": {
    "collapsed": true
   },
   "outputs": [],
   "source": [
    "#quaternion array in pyquaternion version\n",
    "from pyquaternion import Quaternion\n",
    "\n",
    "camera_1_r = Quaternion(axis=[1, 0, 0], angle=3.14159265) #angle range is from -pi to pi\n",
    "camera_2_r = Quaternion(axis=[0, 1, 0], angle=3.14159265)\n",
    "camera_3_r = Quaternion(axis=[0, 0, 1], angle=3.14159265)\n",
    "\n",
    "#print(camera_1_r.angle)\n",
    "\n",
    "\n",
    "\n",
    "\n",
    "#fixing the angle in this section"
   ]
  },
  {
   "cell_type": "code",
   "execution_count": 11,
   "metadata": {},
   "outputs": [
    {
     "name": "stdout",
     "output_type": "stream",
     "text": [
      "<class 'pyquaternion.quaternion.Quaternion'>\n"
     ]
    }
   ],
   "source": [
    "print(type(camera_1_r))"
   ]
  },
  {
   "cell_type": "markdown",
   "metadata": {},
   "source": [
    "Given Info:  <br>\n",
    "The position of cameras: relpose_T_1, relpose_T_2.... <br>\n",
    "the quaternion or rotation matrix of camera 1 from the object in phase 1 to the same object in phase 2<br>\n",
    "the depth of the object in phase 1 and the depth of the object in phase 2, hence we can calculate the positions of o1 and o2 <br>\n",
    "the initial angle vector of camera1 to the object in phase 1, hence, we can calculate the vector c1o1<br>\n"
   ]
  },
  {
   "cell_type": "code",
   "execution_count": null,
   "metadata": {
    "collapsed": true
   },
   "outputs": [],
   "source": [
    "\n",
    "#defining the shape in this section\n",
    "#define the relative postions function (shape such line, triangle...)\n",
    "def triangular (relpose_T): \n",
    "    # first calculate the relative spatial position\n",
    "    # second, add the noise to each position\n",
    "    relpose_T_1 = [camera_1_relpose_T[0],  camera_1_relpose_T[1],  camera_1_relpose_T[2]]\n",
    "    relpose_T_2 = [camera_1_relpose_T[0]-3.0, camera_1_relpose_T[1],camera_1_relpose_T[2] - 0.2]\n",
    "    relpose_T_3 = [camera_1_relpose_T[0]+3.0, camera_1_relpose_T[1],camera_1_relpose_T[2] - 0.2]\n",
    "    \n",
    "    noise = np.random.normal(0,0.01,9) #generating 9 noise factors with standard deviation 0.01 at mean 0\n",
    "    #output is \n",
    "    relpose_T_1 = [camera_1_relpose_T[0] + noise[0] ,  camera_1_relpose_T[1] + noise[1] ,  camera_1_relpose_T[2] + noise[2]]\n",
    "    relpose_T_2 = [camera_1_relpose_T[0]-3.0 + noise[3] , camera_1_relpose_T[1] + noise[4] ,camera_1_relpose_T[2] - 0.2 + noise[5]]\n",
    "    relpose_T_3 = [camera_1_relpose_T[0]+3.0 + noise[6] , camera_1_relpose_T[1] + noise[7] ,camera_1_relpose_T[2] - 0.2 + noise[8]]\n",
    "\n",
    "def line (relpose_T): \n",
    "    # similarly, we define a line-shaped camera system for the multi cameras\n",
    "    noise = np.random.normal(0,0.01,9)\n",
    "    relpose_T_1 = [camera_1_relpose_T[0] + noise[0] ,  camera_1_relpose_T[1] + noise[1] ,  camera_1_relpose_T[2] + noise[2]]\n",
    "    relpose_T_2 = [camera_1_relpose_T[0]+1.0 + noise[3] , camera_1_relpose_T[1]+1.0 + noise[4] ,camera_1_relpose_T[2] - 0.2679  + noise[5]]\n",
    "    relpose_T_3 = [camera_1_relpose_T[0]+2.0 + noise[6] , camera_1_relpose_T[1]+2.0 + noise[7] ,camera_1_relpose_T[2] - 2.0  + noise[8]]\n",
    "\n"
   ]
  },
  {
   "cell_type": "code",
   "execution_count": null,
   "metadata": {
    "collapsed": true
   },
   "outputs": [],
   "source": [
    "def o1_position(c1, o1, depth1):\n",
    "    c1o1 = [o1[0]-c1[0], o1[1]-c1[1], o1[2]-c1[2]]\n",
    "    c1o1 = vec1 / np.linalg.norm(vec1)).reshape(3) #calculating the unit vector\n",
    "    o1 = [c1[0] + c1o1[0] * depth1, c1[1] + c1o1[1] * depth1, c1[2] + c1o1[2] * depth1] #object position in phase 1\n",
    "#using depth1 and initial angle of c1 to calculate position of o1"
   ]
  },
  {
   "cell_type": "code",
   "execution_count": null,
   "metadata": {
    "collapsed": true
   },
   "outputs": [],
   "source": [
    "def find_o2 (relpose_R, relpose_T, o1):\n",
    "        #o1 = [a1, b1, c1]\n",
    "        \n",
    "#relpose_R is quaternion, relpose_T is rotation matrix\n",
    "    x = relpose_R[0]\n",
    "    y = relpose_R[1]\n",
    "    z = relpose_R[2]\n",
    "    w = relpose_R[3]\n",
    "    \n",
    "#converting from quaternion to rotation matrix\n",
    "    R = [\n",
    "        [1- 2*relpose_R[1]*relpose_R[1] - 2*relpose_R[2]*relpose_R[2], 2*relpose_R[0]*relpose_R[2] - 2*relpose_R[2]*relpose_R[3], 2*relpose_R[0]*relpose_R[2] + 2*relpose_R[1]*relpose_R[3]],\n",
    "        [2*relpose_R[0]*relpose_R[1] + 2*relpose_R[2]*relpose_R[3], 1-2*relpose_R[0]*relpose_R[0]-2*relpose_R[2]*relpose_R[2], 2*relpose_R[1]*relpose_R[2] - 2*relpose_R[0]*relpose_R[3]],\n",
    "        [2*relpose_R[0]*relpose_R[2] - 2*relpose_R[1]*relpose_R[3], 2*relpose_R[1]*relpose_R[2] + 2*relpose_R[0]*relpose_R[3], 1- 2*relpose_R[0]*relpose_R[0] -2*relpose_R[1]*relpose_R[1]]\n",
    "    ]\n",
    "\n",
    "#vector p = c1O1 (p is a vector from point c1 to point o1)\n",
    "    p = [o1[0] - relpose_T[0], o1[1] - relpose_T[1], o1[2] - relpose_T[2]]\n",
    "    \n",
    "#p' = R*p\n",
    "    second_vector = [\n",
    "        R[0][0]*p[0] + R[0][1]*p[1] + R[0][2]*p[2],\n",
    "        R[1][0]*p[0] + R[1][1]*p[1] + R[1][2]*p[2],\n",
    "        R[2][0]*p[0] + R[2][1]*p[1] + R[2][2]*p[2]\n",
    "        ]\n",
    "    \n",
    "#finding the unit vector of vector p'(second_vector)\n",
    "    second_vector = second_vector / np.linalg.norm(second_vector)\n",
    "    o2 = [relpose_T[0] + second_vector[0] * depth2, \n",
    "          relpose_T[1] + second_vector[1] * depth2,\n",
    "          relpose_T[1] + second_vector[1] * depth2\n",
    "         ] #object position in phase 2 (after the camera is rotated)\n",
    "    \n",
    "#now you have known o1 and o2 \n",
    "#you can use them to calculate rotation matrix for c2 and c3\n",
    "#or calculate the quaternion of c2 and c3\n"
   ]
  },
  {
   "cell_type": "code",
   "execution_count": null,
   "metadata": {
    "collapsed": true
   },
   "outputs": [],
   "source": [
    "import numpy as np\n",
    "\n",
    "#this funtion below is to use o1 o2, and any camera location to calculate the rotation matrix needed\n",
    "def rotation_matrix_from_vectors(o1, o2, relpose_T):\n",
    "    \"\"\" Find the rotation matrix that aligns vec1 to vec2\n",
    "    :param vec1: A 3d \"source\" vector\n",
    "    :param vec2: A 3d \"destination\" vector\n",
    "    :return mat: A transform matrix (3x3) which when applied to vec1, aligns it with vec2.\n",
    "    \"\"\"\n",
    "    vec1 = [o1[0] - relpose_T[0], o1[1] - relpose_T[1], o1[2] - relpose_T[2]]\n",
    "    vec2 = [o2[0] - relpose_T[0], o2[1] - relpose_T[1], o2[2] - relpose_T[2]]\n",
    "    a, b = (vec1 / np.linalg.norm(vec1)).reshape(3), (vec2 / np.linalg.norm(vec2)).reshape(3)\n",
    "    v = np.cross(a, b)\n",
    "    c = np.dot(a, b)\n",
    "    s = np.linalg.norm(v)\n",
    "    kmat = np.array([[0, -v[2], v[1]], [v[2], 0, -v[0]], [-v[1], v[0], 0]])\n",
    "    #ok, -v[2] in python means -v3 in math equations\n",
    "    #https://math.stackexchange.com/questions/180418/calculate-rotation-matrix-to-align-vector-a-to-vector-b-in-3d\n",
    "    rotation_matrix = np.eye(3) + kmat + kmat.dot(kmat) * ((1 - c) / (s ** 2))\n",
    "    return rotation_matrix"
   ]
  },
  {
   "cell_type": "code",
   "execution_count": null,
   "metadata": {
    "collapsed": true
   },
   "outputs": [],
   "source": [
    "from scipy.spatial.transform import Rotation as R\n",
    "#calculating the quaternion for corresponding camera 2, camera 3, ..., simply substitude the camera position relpose_T of each camera\n",
    "def cal_quaternion (relpose_T, o1, o2):\n",
    "    rotation_matrix_from_vectors(o1, o2, relpose_T)\n",
    "    rotation_matrix.as_quat() #converting the rotation matrix to quaternion\n",
    "    relpose_R = rotation_matrix.as_quat()\n",
    "    return relpose_R \n",
    "    #return the quaternion"
   ]
  }
 ],
 "metadata": {
  "kernelspec": {
   "display_name": "Python 3",
   "language": "python",
   "name": "python3"
  },
  "language_info": {
   "codemirror_mode": {
    "name": "ipython",
    "version": 3
   },
   "file_extension": ".py",
   "mimetype": "text/x-python",
   "name": "python",
   "nbconvert_exporter": "python",
   "pygments_lexer": "ipython3",
   "version": "3.6.3"
  }
 },
 "nbformat": 4,
 "nbformat_minor": 2
}
